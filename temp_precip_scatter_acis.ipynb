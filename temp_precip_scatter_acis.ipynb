{
 "cells": [
  {
   "cell_type": "markdown",
   "metadata": {},
   "source": [
    "### Script to pull data for specified stations from ACIS, for average temperature and precipitation over a defined time period. Makes plotly scatter plots (which are interactive if desired) and writes them out."
   ]
  },
  {
   "cell_type": "code",
   "execution_count": 1,
   "metadata": {},
   "outputs": [],
   "source": [
    "import pandas as pd\n",
    "import plotly.express as px\n",
    "import json,requests\n",
    "from datetime import datetime,time,timedelta"
   ]
  },
  {
   "cell_type": "markdown",
   "metadata": {},
   "source": [
    "Define some station IDs (as defined in ACIS, so can be ICAO, COOP, etc.)"
   ]
  },
  {
   "cell_type": "code",
   "execution_count": 2,
   "metadata": {},
   "outputs": [],
   "source": [
    "#ACIS URL\n",
    "url = 'http://data.rcc-acis.org/StnData'\n",
    "\n",
    "stn_ids = [\"KGJT\",\"053496\",\"053500\",\"053005\", \"057936\",\"051886\",\"052281\",\"055531\",\n",
    "           \"050109\",\"KALS\",\"050848\",\"051121\",\"052220\",\"KPUB\",\"KCOS\",\"058793\",\"055722\"]\n",
    "#stn_ids = [\"KGJT\"]"
   ]
  },
  {
   "cell_type": "markdown",
   "metadata": {},
   "source": [
    "Define the time period we're interested in; do some calculations of how many days this is\n",
    "\n",
    "Note that you can go across a calendar year boundary (for example, from Oct 1 to Sep 30 for a water year), but the code isn't set up to do more than one year. It will also break if you try to go from the middle of one month to earlier in that month (for example, October 15 to October 14 won't work)."
   ]
  },
  {
   "cell_type": "code",
   "execution_count": 3,
   "metadata": {},
   "outputs": [
    {
     "name": "stdout",
     "output_type": "stream",
     "text": [
      "averaging over 91 days from July 1 to September 30\n"
     ]
    }
   ],
   "source": [
    "## define the period we're interested in\n",
    "start_month = 7\n",
    "start_day = 1\n",
    "end_month = 9\n",
    "end_day = 30\n",
    "\n",
    "## set the max number of missing days to allow:\n",
    "maxmissing = 5\n",
    "\n",
    "this_year = pd.Timestamp.now().year\n",
    "\n",
    "start_date = pd.Timestamp(1890,end_month,end_day) # this needs to have the *end* of the period, but some early year\n",
    "end_date = pd.Timestamp(this_year,end_month,end_day)\n",
    "\n",
    "## how many days are in our period of interest?\n",
    "## account for the end month being earlier than the start month, so going over the year switch\n",
    "if end_month >= start_month:\n",
    "    numdays = (pd.Timestamp(this_year,end_month,end_day) - pd.Timestamp(this_year,start_month,start_day)).days\n",
    "else:\n",
    "    numdays = (pd.Timestamp(this_year,end_month,end_day) - pd.Timestamp(this_year-1,start_month,start_day)).days\n",
    "\n",
    "first_day_text = pd.Timestamp(this_year,start_month,start_day).strftime(\"%B %-d\")\n",
    "last_day_text = pd.Timestamp(this_year,end_month,end_day).strftime(\"%B %-d\")\n",
    "print(\"averaging over \"+str(numdays)+\" days from \"+first_day_text+\" to \"+last_day_text) \n",
    "\n",
    "first_day_abbrev=pd.Timestamp(this_year,start_month,start_day).strftime(\"%d%b\")\n",
    "last_day_abbrev=pd.Timestamp(this_year,end_month,end_day).strftime(\"%d%b\")"
   ]
  },
  {
   "cell_type": "markdown",
   "metadata": {},
   "source": [
    "Now loop over the stations, pull the data, and make the plots! You shouldn't need to change this code at all, unless you want to alter how the plots look, etc."
   ]
  },
  {
   "cell_type": "code",
   "execution_count": 10,
   "metadata": {},
   "outputs": [
    {
     "name": "stdout",
     "output_type": "stream",
     "text": [
      "end date: 2020-09-30\n",
      "working on station KGJT\n",
      "avg temp\n",
      "this station is: GRAND JUNCTION WALKER FIELD\n",
      "precip\n",
      "temp normal\n",
      "precip normal\n"
     ]
    },
    {
     "data": {
      "application/vnd.plotly.v1+json": {
       "config": {
        "plotlyServerURL": "https://plot.ly",
        "toImageButtonOptions": {
         "filename": "tavg_prcp_scatter_KGJT_01Jul_30Sep",
         "format": "png",
         "height": 750,
         "scale": 1,
         "width": 850
        }
       },
       "data": [
        {
         "customdata": [
          [
           1.46,
           72.29,
           1900
          ],
          [
           2.49,
           75.12,
           1901
          ],
          [
           2.16,
           72.34,
           1902
          ],
          [
           1.38,
           72.05,
           1903
          ],
          [
           2.19,
           73.23,
           1904
          ],
          [
           2.18,
           73.75,
           1905
          ],
          [
           2.33,
           71.69,
           1906
          ],
          [
           2.69,
           72.51,
           1907
          ],
          [
           2.38,
           72.79,
           1908
          ],
          [
           2.49,
           72.99,
           1909
          ],
          [
           2.48,
           75.25,
           1910
          ],
          [
           2.49,
           72.83,
           1911
          ],
          [
           2.16,
           69.76,
           1912
          ],
          [
           2.23,
           72.5,
           1913
          ],
          [
           2.87,
           72.68,
           1914
          ],
          [
           1.62,
           72.63,
           1915
          ],
          [
           3.42,
           71.61,
           1916
          ],
          [
           1.66,
           73.8,
           1917
          ],
          [
           3.03,
           72.37,
           1918
          ],
          [
           2.22,
           75.42,
           1919
          ],
          [
           1.79,
           71.91,
           1920
          ],
          [
           5.07,
           72.36,
           1921
          ],
          [
           2.78,
           75.07,
           1922
          ],
          [
           3.19,
           71.99,
           1923
          ],
          [
           2.66,
           72.51,
           1924
          ],
          [
           3.67,
           72.21,
           1925
          ],
          [
           2.71,
           73.4,
           1926
          ],
          [
           5.32,
           71.58,
           1927
          ],
          [
           2.12,
           73.48,
           1928
          ],
          [
           5.87,
           73.1,
           1929
          ],
          [
           2.55,
           73.19,
           1930
          ],
          [
           3.01,
           75.75,
           1931
          ],
          [
           3.05,
           73.58,
           1932
          ],
          [
           2.97,
           76.22,
           1933
          ],
          [
           2.47,
           75.66,
           1934
          ],
          [
           2.07,
           75.15,
           1935
          ],
          [
           3.45,
           74.64,
           1936
          ],
          [
           2.87,
           75.31,
           1937
          ],
          [
           3.24,
           74.4,
           1938
          ],
          [
           3.39,
           75.06,
           1939
          ],
          [
           3.26,
           75.52,
           1940
          ],
          [
           4.76,
           72.16,
           1941
          ],
          [
           2.4,
           74.54,
           1942
          ],
          [
           2.38,
           74.77,
           1943
          ],
          [
           0.81,
           74.42,
           1944
          ],
          [
           2.13,
           73.67,
           1945
          ],
          [
           2.15,
           74.49,
           1946
          ],
          [
           1.62,
           74.17,
           1947
          ],
          [
           3.1,
           73.67,
           1948
          ],
          [
           2.95,
           73.41,
           1949
          ],
          [
           2.26,
           71.54,
           1950
          ],
          [
           1.67,
           73.23,
           1951
          ],
          [
           1.9,
           73.51,
           1952
          ],
          [
           3,
           73.7,
           1953
          ],
          [
           3.49,
           73.81,
           1954
          ],
          [
           1.71,
           75.12,
           1955
          ],
          [
           0.26,
           73.77,
           1956
          ],
          [
           4.14,
           71.35,
           1957
          ],
          [
           2.1,
           74.65,
           1958
          ],
          [
           1.88,
           73.2,
           1959
          ],
          [
           1.25,
           75.08,
           1960
          ],
          [
           3.88,
           71.25,
           1961
          ],
          [
           1.64,
           73.45,
           1962
          ],
          [
           3.16,
           74.34,
           1963
          ],
          [
           2.17,
           74.02,
           1964
          ],
          [
           4.08,
           73.01,
           1965
          ],
          [
           0.88,
           75.79,
           1966
          ],
          [
           1.99,
           73.76,
           1967
          ],
          [
           1.93,
           70.92,
           1968
          ],
          [
           2.54,
           76.45,
           1969
          ],
          [
           1.82,
           74.02,
           1970
          ],
          [
           1.72,
           74.06,
           1971
          ],
          [
           1.04,
           75.09,
           1972
          ],
          [
           1.47,
           73.69,
           1973
          ],
          [
           2.39,
           73.39,
           1974
          ],
          [
           1.64,
           73.62,
           1975
          ],
          [
           1.18,
           73.94,
           1976
          ],
          [
           2,
           76.25,
           1977
          ],
          [
           1.28,
           72.88,
           1978
          ],
          [
           0.67,
           75.11,
           1979
          ],
          [
           2.35,
           73.95,
           1980
          ],
          [
           1.45,
           75.21,
           1981
          ],
          [
           4.1,
           74.94,
           1982
          ],
          [
           3.76,
           76.74,
           1983
          ],
          [
           2.73,
           74.3,
           1984
          ],
          [
           3.12,
           72.37,
           1985
          ],
          [
           3.43,
           71.59,
           1986
          ],
          [
           2.47,
           71.39,
           1987
          ],
          [
           2.31,
           73.81,
           1988
          ],
          [
           1.61,
           74.4,
           1989
          ],
          [
           2.59,
           74.66,
           1990
          ],
          [
           3.27,
           73.48,
           1991
          ],
          [
           2.2,
           72.69,
           1992
          ],
          [
           1.87,
           71.92,
           1993
          ],
          [
           1.99,
           76.31,
           1994
          ],
          [
           1.83,
           74.64,
           1995
          ],
          [
           2.45,
           73.36,
           1996
          ],
          [
           5.79,
           72.27,
           1997
          ],
          [
           3.26,
           75.28,
           1998
          ],
          [
           3.74,
           71.52,
           1999
          ],
          [
           1.4,
           75.25,
           2000
          ],
          [
           2.81,
           74.7,
           2001
          ],
          [
           3.82,
           74.22,
           2002
          ],
          [
           1.47,
           75.88,
           2003
          ],
          [
           2.3,
           72.68,
           2004
          ],
          [
           3.97,
           73.7,
           2005
          ],
          [
           3.78,
           72.03,
           2006
          ],
          [
           3.79,
           75.85,
           2007
          ],
          [
           1.44,
           74.53,
           2008
          ],
          [
           0.85,
           74.31,
           2009
          ],
          [
           2.23,
           74.66,
           2010
          ],
          [
           3.85,
           75.09,
           2011
          ],
          [
           1.6,
           75.44,
           2012
          ],
          [
           5.64,
           73.57,
           2013
          ],
          [
           6.02,
           72.72,
           2014
          ],
          [
           2.74,
           72.53,
           2015
          ],
          [
           1.66,
           73.78,
           2016
          ],
          [
           1.89,
           75.19,
           2017
          ],
          [
           1.28,
           77.51,
           2018
          ],
          [
           0.52,
           76.08,
           2019
          ],
          [
           1.25,
           76.21,
           2020
          ]
         ],
         "hovertemplate": "accumulated precipitation (inches)=%{customdata[0]}<br>avg temp (F)=%{marker.color}<br>year=%{customdata[2]}<extra></extra>",
         "legendgroup": "",
         "marker": {
          "color": [
           72.29,
           75.12,
           72.34,
           72.05,
           73.23,
           73.75,
           71.69,
           72.51,
           72.79,
           72.99,
           75.25,
           72.83,
           69.76,
           72.5,
           72.68,
           72.63,
           71.61,
           73.8,
           72.37,
           75.42,
           71.91,
           72.36,
           75.07,
           71.99,
           72.51,
           72.21,
           73.4,
           71.58,
           73.48,
           73.1,
           73.19,
           75.75,
           73.58,
           76.22,
           75.66,
           75.15,
           74.64,
           75.31,
           74.4,
           75.06,
           75.52,
           72.16,
           74.54,
           74.77,
           74.42,
           73.67,
           74.49,
           74.17,
           73.67,
           73.41,
           71.54,
           73.23,
           73.51,
           73.7,
           73.81,
           75.12,
           73.77,
           71.35,
           74.65,
           73.2,
           75.08,
           71.25,
           73.45,
           74.34,
           74.02,
           73.01,
           75.79,
           73.76,
           70.92,
           76.45,
           74.02,
           74.06,
           75.09,
           73.69,
           73.39,
           73.62,
           73.94,
           76.25,
           72.88,
           75.11,
           73.95,
           75.21,
           74.94,
           76.74,
           74.3,
           72.37,
           71.59,
           71.39,
           73.81,
           74.4,
           74.66,
           73.48,
           72.69,
           71.92,
           76.31,
           74.64,
           73.36,
           72.27,
           75.28,
           71.52,
           75.25,
           74.7,
           74.22,
           75.88,
           72.68,
           73.7,
           72.03,
           75.85,
           74.53,
           74.31,
           74.66,
           75.09,
           75.44,
           73.57,
           72.72,
           72.53,
           73.78,
           75.19,
           77.51,
           76.08,
           76.21
          ],
          "coloraxis": "coloraxis",
          "size": [
           1.46,
           2.49,
           2.16,
           1.38,
           2.19,
           2.18,
           2.33,
           2.69,
           2.38,
           2.49,
           2.48,
           2.49,
           2.16,
           2.23,
           2.87,
           1.62,
           3.42,
           1.66,
           3.03,
           2.22,
           1.79,
           5.07,
           2.78,
           3.19,
           2.66,
           3.67,
           2.71,
           5.32,
           2.12,
           5.87,
           2.55,
           3.01,
           3.05,
           2.97,
           2.47,
           2.07,
           3.45,
           2.87,
           3.24,
           3.39,
           3.26,
           4.76,
           2.4,
           2.38,
           0.81,
           2.13,
           2.15,
           1.62,
           3.1,
           2.95,
           2.26,
           1.67,
           1.9,
           3,
           3.49,
           1.71,
           0.26,
           4.14,
           2.1,
           1.88,
           1.25,
           3.88,
           1.64,
           3.16,
           2.17,
           4.08,
           0.88,
           1.99,
           1.93,
           2.54,
           1.82,
           1.72,
           1.04,
           1.47,
           2.39,
           1.64,
           1.18,
           2,
           1.28,
           0.67,
           2.35,
           1.45,
           4.1,
           3.76,
           2.73,
           3.12,
           3.43,
           2.47,
           2.31,
           1.61,
           2.59,
           3.27,
           2.2,
           1.87,
           1.99,
           1.83,
           2.45,
           5.79,
           3.26,
           3.74,
           1.4,
           2.81,
           3.82,
           1.47,
           2.3,
           3.97,
           3.78,
           3.79,
           1.44,
           0.85,
           2.23,
           3.85,
           1.6,
           5.64,
           6.02,
           2.74,
           1.66,
           1.89,
           1.28,
           0.52,
           1.25
          ],
          "sizemode": "area",
          "sizeref": 0.01505,
          "symbol": "circle"
         },
         "mode": "markers+text",
         "name": "",
         "orientation": "v",
         "showlegend": false,
         "text": [
          1900,
          1901,
          1902,
          1903,
          1904,
          1905,
          1906,
          1907,
          1908,
          1909,
          1910,
          1911,
          1912,
          1913,
          1914,
          1915,
          1916,
          1917,
          1918,
          1919,
          1920,
          1921,
          1922,
          1923,
          1924,
          1925,
          1926,
          1927,
          1928,
          1929,
          1930,
          1931,
          1932,
          1933,
          1934,
          1935,
          1936,
          1937,
          1938,
          1939,
          1940,
          1941,
          1942,
          1943,
          1944,
          1945,
          1946,
          1947,
          1948,
          1949,
          1950,
          1951,
          1952,
          1953,
          1954,
          1955,
          1956,
          1957,
          1958,
          1959,
          1960,
          1961,
          1962,
          1963,
          1964,
          1965,
          1966,
          1967,
          1968,
          1969,
          1970,
          1971,
          1972,
          1973,
          1974,
          1975,
          1976,
          1977,
          1978,
          1979,
          1980,
          1981,
          1982,
          1983,
          1984,
          1985,
          1986,
          1987,
          1988,
          1989,
          1990,
          1991,
          1992,
          1993,
          1994,
          1995,
          1996,
          1997,
          1998,
          1999,
          2000,
          2001,
          2002,
          2003,
          2004,
          2005,
          2006,
          2007,
          2008,
          2009,
          2010,
          2011,
          2012,
          2013,
          2014,
          2015,
          2016,
          2017,
          2018,
          2019,
          2020
         ],
         "textfont": {
          "size": 9
         },
         "textposition": "top center",
         "type": "scatter",
         "x": [
          1.46,
          2.49,
          2.16,
          1.38,
          2.19,
          2.18,
          2.33,
          2.69,
          2.38,
          2.49,
          2.48,
          2.49,
          2.16,
          2.23,
          2.87,
          1.62,
          3.42,
          1.66,
          3.03,
          2.22,
          1.79,
          5.07,
          2.78,
          3.19,
          2.66,
          3.67,
          2.71,
          5.32,
          2.12,
          5.87,
          2.55,
          3.01,
          3.05,
          2.97,
          2.47,
          2.07,
          3.45,
          2.87,
          3.24,
          3.39,
          3.26,
          4.76,
          2.4,
          2.38,
          0.81,
          2.13,
          2.15,
          1.62,
          3.1,
          2.95,
          2.26,
          1.67,
          1.9,
          3,
          3.49,
          1.71,
          0.26,
          4.14,
          2.1,
          1.88,
          1.25,
          3.88,
          1.64,
          3.16,
          2.17,
          4.08,
          0.88,
          1.99,
          1.93,
          2.54,
          1.82,
          1.72,
          1.04,
          1.47,
          2.39,
          1.64,
          1.18,
          2,
          1.28,
          0.67,
          2.35,
          1.45,
          4.1,
          3.76,
          2.73,
          3.12,
          3.43,
          2.47,
          2.31,
          1.61,
          2.59,
          3.27,
          2.2,
          1.87,
          1.99,
          1.83,
          2.45,
          5.79,
          3.26,
          3.74,
          1.4,
          2.81,
          3.82,
          1.47,
          2.3,
          3.97,
          3.78,
          3.79,
          1.44,
          0.85,
          2.23,
          3.85,
          1.6,
          5.64,
          6.02,
          2.74,
          1.66,
          1.89,
          1.28,
          0.52,
          1.25
         ],
         "xaxis": "x",
         "y": [
          72.29,
          75.12,
          72.34,
          72.05,
          73.23,
          73.75,
          71.69,
          72.51,
          72.79,
          72.99,
          75.25,
          72.83,
          69.76,
          72.5,
          72.68,
          72.63,
          71.61,
          73.8,
          72.37,
          75.42,
          71.91,
          72.36,
          75.07,
          71.99,
          72.51,
          72.21,
          73.4,
          71.58,
          73.48,
          73.1,
          73.19,
          75.75,
          73.58,
          76.22,
          75.66,
          75.15,
          74.64,
          75.31,
          74.4,
          75.06,
          75.52,
          72.16,
          74.54,
          74.77,
          74.42,
          73.67,
          74.49,
          74.17,
          73.67,
          73.41,
          71.54,
          73.23,
          73.51,
          73.7,
          73.81,
          75.12,
          73.77,
          71.35,
          74.65,
          73.2,
          75.08,
          71.25,
          73.45,
          74.34,
          74.02,
          73.01,
          75.79,
          73.76,
          70.92,
          76.45,
          74.02,
          74.06,
          75.09,
          73.69,
          73.39,
          73.62,
          73.94,
          76.25,
          72.88,
          75.11,
          73.95,
          75.21,
          74.94,
          76.74,
          74.3,
          72.37,
          71.59,
          71.39,
          73.81,
          74.4,
          74.66,
          73.48,
          72.69,
          71.92,
          76.31,
          74.64,
          73.36,
          72.27,
          75.28,
          71.52,
          75.25,
          74.7,
          74.22,
          75.88,
          72.68,
          73.7,
          72.03,
          75.85,
          74.53,
          74.31,
          74.66,
          75.09,
          75.44,
          73.57,
          72.72,
          72.53,
          73.78,
          75.19,
          77.51,
          76.08,
          76.21
         ],
         "yaxis": "y"
        }
       ],
       "layout": {
        "annotations": [
         {
          "font": {
           "size": 10.5
          },
          "showarrow": false,
          "text": "Data source: ACIS",
          "x": 1.125,
          "xref": "paper",
          "y": -0.1,
          "yref": "paper"
         },
         {
          "font": {
           "size": 10.5
          },
          "showarrow": false,
          "text": "size of points proportional to precip,<br>color shows temp<br>normals are 1981-2010",
          "x": -0.075,
          "xref": "paper",
          "y": -0.1,
          "yref": "paper"
         },
         {
          "font": {
           "color": "brown",
           "size": 14
          },
          "showarrow": false,
          "text": "warm & dry",
          "x": 0,
          "xref": "paper",
          "y": 1,
          "yref": "paper"
         },
         {
          "font": {
           "color": "blue",
           "size": 14
          },
          "showarrow": false,
          "text": "cool & wet",
          "x": 1,
          "xref": "paper",
          "y": 0,
          "yref": "paper"
         },
         {
          "font": {
           "color": "brown",
           "size": 14
          },
          "showarrow": false,
          "text": "warm & wet",
          "x": 1,
          "xref": "paper",
          "y": 1,
          "yref": "paper"
         },
         {
          "font": {
           "color": "blue",
           "size": 14
          },
          "showarrow": false,
          "text": "cool & dry",
          "x": 0,
          "xref": "paper",
          "y": 0,
          "yref": "paper"
         },
         {
          "font": {
           "color": "gray",
           "size": 11
          },
          "showarrow": false,
          "text": "normal precip: 2.73\"",
          "x": 3.63,
          "y": 0,
          "yref": "paper"
         },
         {
          "font": {
           "color": "gray",
           "size": 11
          },
          "showarrow": false,
          "text": "normal TAVG: 73.29F",
          "x": 0,
          "xref": "paper",
          "y": 73.44000000000001
         }
        ],
        "coloraxis": {
         "colorbar": {
          "title": {
           "text": "avg temp (F)"
          }
         },
         "colorscale": [
          [
           0,
           "rgb(253, 237, 176)"
          ],
          [
           0.09090909090909091,
           "rgb(250, 205, 145)"
          ],
          [
           0.18181818181818182,
           "rgb(246, 173, 119)"
          ],
          [
           0.2727272727272727,
           "rgb(240, 142, 98)"
          ],
          [
           0.36363636363636365,
           "rgb(231, 109, 84)"
          ],
          [
           0.45454545454545453,
           "rgb(216, 80, 83)"
          ],
          [
           0.5454545454545454,
           "rgb(195, 56, 90)"
          ],
          [
           0.6363636363636364,
           "rgb(168, 40, 96)"
          ],
          [
           0.7272727272727273,
           "rgb(138, 29, 99)"
          ],
          [
           0.8181818181818182,
           "rgb(107, 24, 93)"
          ],
          [
           0.9090909090909091,
           "rgb(76, 21, 80)"
          ],
          [
           1,
           "rgb(47, 15, 61)"
          ]
         ]
        },
        "height": 750,
        "legend": {
         "itemsizing": "constant",
         "tracegroupgap": 0
        },
        "margin": {
         "t": 60
        },
        "shapes": [
         {
          "line": {
           "color": "gray",
           "dash": "dash"
          },
          "opacity": 0.6,
          "type": "line",
          "x0": 2.73,
          "x1": 2.73,
          "xref": "x",
          "y0": 0,
          "y1": 1,
          "yref": "y domain"
         },
         {
          "line": {
           "color": "gray",
           "dash": "dash"
          },
          "opacity": 0.6,
          "type": "line",
          "x0": 0,
          "x1": 1,
          "xref": "x domain",
          "y0": 73.29,
          "y1": 73.29,
          "yref": "y"
         }
        ],
        "showlegend": true,
        "template": {
         "data": {
          "bar": [
           {
            "error_x": {
             "color": "#2a3f5f"
            },
            "error_y": {
             "color": "#2a3f5f"
            },
            "marker": {
             "line": {
              "color": "#E5ECF6",
              "width": 0.5
             }
            },
            "type": "bar"
           }
          ],
          "barpolar": [
           {
            "marker": {
             "line": {
              "color": "#E5ECF6",
              "width": 0.5
             }
            },
            "type": "barpolar"
           }
          ],
          "carpet": [
           {
            "aaxis": {
             "endlinecolor": "#2a3f5f",
             "gridcolor": "white",
             "linecolor": "white",
             "minorgridcolor": "white",
             "startlinecolor": "#2a3f5f"
            },
            "baxis": {
             "endlinecolor": "#2a3f5f",
             "gridcolor": "white",
             "linecolor": "white",
             "minorgridcolor": "white",
             "startlinecolor": "#2a3f5f"
            },
            "type": "carpet"
           }
          ],
          "choropleth": [
           {
            "colorbar": {
             "outlinewidth": 0,
             "ticks": ""
            },
            "type": "choropleth"
           }
          ],
          "contour": [
           {
            "colorbar": {
             "outlinewidth": 0,
             "ticks": ""
            },
            "colorscale": [
             [
              0,
              "#0d0887"
             ],
             [
              0.1111111111111111,
              "#46039f"
             ],
             [
              0.2222222222222222,
              "#7201a8"
             ],
             [
              0.3333333333333333,
              "#9c179e"
             ],
             [
              0.4444444444444444,
              "#bd3786"
             ],
             [
              0.5555555555555556,
              "#d8576b"
             ],
             [
              0.6666666666666666,
              "#ed7953"
             ],
             [
              0.7777777777777778,
              "#fb9f3a"
             ],
             [
              0.8888888888888888,
              "#fdca26"
             ],
             [
              1,
              "#f0f921"
             ]
            ],
            "type": "contour"
           }
          ],
          "contourcarpet": [
           {
            "colorbar": {
             "outlinewidth": 0,
             "ticks": ""
            },
            "type": "contourcarpet"
           }
          ],
          "heatmap": [
           {
            "colorbar": {
             "outlinewidth": 0,
             "ticks": ""
            },
            "colorscale": [
             [
              0,
              "#0d0887"
             ],
             [
              0.1111111111111111,
              "#46039f"
             ],
             [
              0.2222222222222222,
              "#7201a8"
             ],
             [
              0.3333333333333333,
              "#9c179e"
             ],
             [
              0.4444444444444444,
              "#bd3786"
             ],
             [
              0.5555555555555556,
              "#d8576b"
             ],
             [
              0.6666666666666666,
              "#ed7953"
             ],
             [
              0.7777777777777778,
              "#fb9f3a"
             ],
             [
              0.8888888888888888,
              "#fdca26"
             ],
             [
              1,
              "#f0f921"
             ]
            ],
            "type": "heatmap"
           }
          ],
          "heatmapgl": [
           {
            "colorbar": {
             "outlinewidth": 0,
             "ticks": ""
            },
            "colorscale": [
             [
              0,
              "#0d0887"
             ],
             [
              0.1111111111111111,
              "#46039f"
             ],
             [
              0.2222222222222222,
              "#7201a8"
             ],
             [
              0.3333333333333333,
              "#9c179e"
             ],
             [
              0.4444444444444444,
              "#bd3786"
             ],
             [
              0.5555555555555556,
              "#d8576b"
             ],
             [
              0.6666666666666666,
              "#ed7953"
             ],
             [
              0.7777777777777778,
              "#fb9f3a"
             ],
             [
              0.8888888888888888,
              "#fdca26"
             ],
             [
              1,
              "#f0f921"
             ]
            ],
            "type": "heatmapgl"
           }
          ],
          "histogram": [
           {
            "marker": {
             "colorbar": {
              "outlinewidth": 0,
              "ticks": ""
             }
            },
            "type": "histogram"
           }
          ],
          "histogram2d": [
           {
            "colorbar": {
             "outlinewidth": 0,
             "ticks": ""
            },
            "colorscale": [
             [
              0,
              "#0d0887"
             ],
             [
              0.1111111111111111,
              "#46039f"
             ],
             [
              0.2222222222222222,
              "#7201a8"
             ],
             [
              0.3333333333333333,
              "#9c179e"
             ],
             [
              0.4444444444444444,
              "#bd3786"
             ],
             [
              0.5555555555555556,
              "#d8576b"
             ],
             [
              0.6666666666666666,
              "#ed7953"
             ],
             [
              0.7777777777777778,
              "#fb9f3a"
             ],
             [
              0.8888888888888888,
              "#fdca26"
             ],
             [
              1,
              "#f0f921"
             ]
            ],
            "type": "histogram2d"
           }
          ],
          "histogram2dcontour": [
           {
            "colorbar": {
             "outlinewidth": 0,
             "ticks": ""
            },
            "colorscale": [
             [
              0,
              "#0d0887"
             ],
             [
              0.1111111111111111,
              "#46039f"
             ],
             [
              0.2222222222222222,
              "#7201a8"
             ],
             [
              0.3333333333333333,
              "#9c179e"
             ],
             [
              0.4444444444444444,
              "#bd3786"
             ],
             [
              0.5555555555555556,
              "#d8576b"
             ],
             [
              0.6666666666666666,
              "#ed7953"
             ],
             [
              0.7777777777777778,
              "#fb9f3a"
             ],
             [
              0.8888888888888888,
              "#fdca26"
             ],
             [
              1,
              "#f0f921"
             ]
            ],
            "type": "histogram2dcontour"
           }
          ],
          "mesh3d": [
           {
            "colorbar": {
             "outlinewidth": 0,
             "ticks": ""
            },
            "type": "mesh3d"
           }
          ],
          "parcoords": [
           {
            "line": {
             "colorbar": {
              "outlinewidth": 0,
              "ticks": ""
             }
            },
            "type": "parcoords"
           }
          ],
          "pie": [
           {
            "automargin": true,
            "type": "pie"
           }
          ],
          "scatter": [
           {
            "marker": {
             "colorbar": {
              "outlinewidth": 0,
              "ticks": ""
             }
            },
            "type": "scatter"
           }
          ],
          "scatter3d": [
           {
            "line": {
             "colorbar": {
              "outlinewidth": 0,
              "ticks": ""
             }
            },
            "marker": {
             "colorbar": {
              "outlinewidth": 0,
              "ticks": ""
             }
            },
            "type": "scatter3d"
           }
          ],
          "scattercarpet": [
           {
            "marker": {
             "colorbar": {
              "outlinewidth": 0,
              "ticks": ""
             }
            },
            "type": "scattercarpet"
           }
          ],
          "scattergeo": [
           {
            "marker": {
             "colorbar": {
              "outlinewidth": 0,
              "ticks": ""
             }
            },
            "type": "scattergeo"
           }
          ],
          "scattergl": [
           {
            "marker": {
             "colorbar": {
              "outlinewidth": 0,
              "ticks": ""
             }
            },
            "type": "scattergl"
           }
          ],
          "scattermapbox": [
           {
            "marker": {
             "colorbar": {
              "outlinewidth": 0,
              "ticks": ""
             }
            },
            "type": "scattermapbox"
           }
          ],
          "scatterpolar": [
           {
            "marker": {
             "colorbar": {
              "outlinewidth": 0,
              "ticks": ""
             }
            },
            "type": "scatterpolar"
           }
          ],
          "scatterpolargl": [
           {
            "marker": {
             "colorbar": {
              "outlinewidth": 0,
              "ticks": ""
             }
            },
            "type": "scatterpolargl"
           }
          ],
          "scatterternary": [
           {
            "marker": {
             "colorbar": {
              "outlinewidth": 0,
              "ticks": ""
             }
            },
            "type": "scatterternary"
           }
          ],
          "surface": [
           {
            "colorbar": {
             "outlinewidth": 0,
             "ticks": ""
            },
            "colorscale": [
             [
              0,
              "#0d0887"
             ],
             [
              0.1111111111111111,
              "#46039f"
             ],
             [
              0.2222222222222222,
              "#7201a8"
             ],
             [
              0.3333333333333333,
              "#9c179e"
             ],
             [
              0.4444444444444444,
              "#bd3786"
             ],
             [
              0.5555555555555556,
              "#d8576b"
             ],
             [
              0.6666666666666666,
              "#ed7953"
             ],
             [
              0.7777777777777778,
              "#fb9f3a"
             ],
             [
              0.8888888888888888,
              "#fdca26"
             ],
             [
              1,
              "#f0f921"
             ]
            ],
            "type": "surface"
           }
          ],
          "table": [
           {
            "cells": {
             "fill": {
              "color": "#EBF0F8"
             },
             "line": {
              "color": "white"
             }
            },
            "header": {
             "fill": {
              "color": "#C8D4E3"
             },
             "line": {
              "color": "white"
             }
            },
            "type": "table"
           }
          ]
         },
         "layout": {
          "annotationdefaults": {
           "arrowcolor": "#2a3f5f",
           "arrowhead": 0,
           "arrowwidth": 1
          },
          "coloraxis": {
           "colorbar": {
            "outlinewidth": 0,
            "ticks": ""
           }
          },
          "colorscale": {
           "diverging": [
            [
             0,
             "#8e0152"
            ],
            [
             0.1,
             "#c51b7d"
            ],
            [
             0.2,
             "#de77ae"
            ],
            [
             0.3,
             "#f1b6da"
            ],
            [
             0.4,
             "#fde0ef"
            ],
            [
             0.5,
             "#f7f7f7"
            ],
            [
             0.6,
             "#e6f5d0"
            ],
            [
             0.7,
             "#b8e186"
            ],
            [
             0.8,
             "#7fbc41"
            ],
            [
             0.9,
             "#4d9221"
            ],
            [
             1,
             "#276419"
            ]
           ],
           "sequential": [
            [
             0,
             "#0d0887"
            ],
            [
             0.1111111111111111,
             "#46039f"
            ],
            [
             0.2222222222222222,
             "#7201a8"
            ],
            [
             0.3333333333333333,
             "#9c179e"
            ],
            [
             0.4444444444444444,
             "#bd3786"
            ],
            [
             0.5555555555555556,
             "#d8576b"
            ],
            [
             0.6666666666666666,
             "#ed7953"
            ],
            [
             0.7777777777777778,
             "#fb9f3a"
            ],
            [
             0.8888888888888888,
             "#fdca26"
            ],
            [
             1,
             "#f0f921"
            ]
           ],
           "sequentialminus": [
            [
             0,
             "#0d0887"
            ],
            [
             0.1111111111111111,
             "#46039f"
            ],
            [
             0.2222222222222222,
             "#7201a8"
            ],
            [
             0.3333333333333333,
             "#9c179e"
            ],
            [
             0.4444444444444444,
             "#bd3786"
            ],
            [
             0.5555555555555556,
             "#d8576b"
            ],
            [
             0.6666666666666666,
             "#ed7953"
            ],
            [
             0.7777777777777778,
             "#fb9f3a"
            ],
            [
             0.8888888888888888,
             "#fdca26"
            ],
            [
             1,
             "#f0f921"
            ]
           ]
          },
          "colorway": [
           "#636efa",
           "#EF553B",
           "#00cc96",
           "#ab63fa",
           "#FFA15A",
           "#19d3f3",
           "#FF6692",
           "#B6E880",
           "#FF97FF",
           "#FECB52"
          ],
          "font": {
           "color": "#2a3f5f"
          },
          "geo": {
           "bgcolor": "white",
           "lakecolor": "white",
           "landcolor": "#E5ECF6",
           "showlakes": true,
           "showland": true,
           "subunitcolor": "white"
          },
          "hoverlabel": {
           "align": "left"
          },
          "hovermode": "closest",
          "mapbox": {
           "style": "light"
          },
          "paper_bgcolor": "white",
          "plot_bgcolor": "#E5ECF6",
          "polar": {
           "angularaxis": {
            "gridcolor": "white",
            "linecolor": "white",
            "ticks": ""
           },
           "bgcolor": "#E5ECF6",
           "radialaxis": {
            "gridcolor": "white",
            "linecolor": "white",
            "ticks": ""
           }
          },
          "scene": {
           "xaxis": {
            "backgroundcolor": "#E5ECF6",
            "gridcolor": "white",
            "gridwidth": 2,
            "linecolor": "white",
            "showbackground": true,
            "ticks": "",
            "zerolinecolor": "white"
           },
           "yaxis": {
            "backgroundcolor": "#E5ECF6",
            "gridcolor": "white",
            "gridwidth": 2,
            "linecolor": "white",
            "showbackground": true,
            "ticks": "",
            "zerolinecolor": "white"
           },
           "zaxis": {
            "backgroundcolor": "#E5ECF6",
            "gridcolor": "white",
            "gridwidth": 2,
            "linecolor": "white",
            "showbackground": true,
            "ticks": "",
            "zerolinecolor": "white"
           }
          },
          "shapedefaults": {
           "line": {
            "color": "#2a3f5f"
           }
          },
          "ternary": {
           "aaxis": {
            "gridcolor": "white",
            "linecolor": "white",
            "ticks": ""
           },
           "baxis": {
            "gridcolor": "white",
            "linecolor": "white",
            "ticks": ""
           },
           "bgcolor": "#E5ECF6",
           "caxis": {
            "gridcolor": "white",
            "linecolor": "white",
            "ticks": ""
           }
          },
          "title": {
           "x": 0.05
          },
          "xaxis": {
           "automargin": true,
           "gridcolor": "white",
           "linecolor": "white",
           "ticks": "",
           "title": {
            "standoff": 15
           },
           "zerolinecolor": "white",
           "zerolinewidth": 2
          },
          "yaxis": {
           "automargin": true,
           "gridcolor": "white",
           "linecolor": "white",
           "ticks": "",
           "title": {
            "standoff": 15
           },
           "zerolinecolor": "white",
           "zerolinewidth": 2
          }
         }
        },
        "title": {
         "text": "GRAND JUNCTION WALKER FIELD temperature and precipitation, July 1 - September 30",
         "x": 0.5,
         "xanchor": "center",
         "y": 0.95,
         "yanchor": "top"
        },
        "width": 850,
        "xaxis": {
         "anchor": "y",
         "domain": [
          0,
          1
         ],
         "title": {
          "text": "accumulated precipitation (inches)"
         }
        },
        "yaxis": {
         "anchor": "x",
         "domain": [
          0,
          1
         ],
         "title": {
          "text": "avg temp (F)"
         }
        }
       }
      },
      "text/html": [
       "<div>                            <div id=\"4e6e8431-fb8c-42ef-a0a6-44f28cfd2652\" class=\"plotly-graph-div\" style=\"height:750px; width:850px;\"></div>            <script type=\"text/javascript\">                require([\"plotly\"], function(Plotly) {                    window.PLOTLYENV=window.PLOTLYENV || {};                                    if (document.getElementById(\"4e6e8431-fb8c-42ef-a0a6-44f28cfd2652\")) {                    Plotly.newPlot(                        \"4e6e8431-fb8c-42ef-a0a6-44f28cfd2652\",                        [{\"customdata\": [[1.46, 72.29, 1900.0], [2.49, 75.12, 1901.0], [2.16, 72.34, 1902.0], [1.38, 72.05, 1903.0], [2.19, 73.23, 1904.0], [2.18, 73.75, 1905.0], [2.33, 71.69, 1906.0], [2.69, 72.51, 1907.0], [2.38, 72.79, 1908.0], [2.49, 72.99, 1909.0], [2.48, 75.25, 1910.0], [2.49, 72.83, 1911.0], [2.16, 69.76, 1912.0], [2.23, 72.5, 1913.0], [2.87, 72.68, 1914.0], [1.62, 72.63, 1915.0], [3.42, 71.61, 1916.0], [1.66, 73.8, 1917.0], [3.03, 72.37, 1918.0], [2.22, 75.42, 1919.0], [1.79, 71.91, 1920.0], [5.07, 72.36, 1921.0], [2.78, 75.07, 1922.0], [3.19, 71.99, 1923.0], [2.66, 72.51, 1924.0], [3.67, 72.21, 1925.0], [2.71, 73.4, 1926.0], [5.32, 71.58, 1927.0], [2.12, 73.48, 1928.0], [5.87, 73.1, 1929.0], [2.55, 73.19, 1930.0], [3.01, 75.75, 1931.0], [3.05, 73.58, 1932.0], [2.97, 76.22, 1933.0], [2.47, 75.66, 1934.0], [2.07, 75.15, 1935.0], [3.45, 74.64, 1936.0], [2.87, 75.31, 1937.0], [3.24, 74.4, 1938.0], [3.39, 75.06, 1939.0], [3.26, 75.52, 1940.0], [4.76, 72.16, 1941.0], [2.4, 74.54, 1942.0], [2.38, 74.77, 1943.0], [0.81, 74.42, 1944.0], [2.13, 73.67, 1945.0], [2.15, 74.49, 1946.0], [1.62, 74.17, 1947.0], [3.1, 73.67, 1948.0], [2.95, 73.41, 1949.0], [2.26, 71.54, 1950.0], [1.67, 73.23, 1951.0], [1.9, 73.51, 1952.0], [3.0, 73.7, 1953.0], [3.49, 73.81, 1954.0], [1.71, 75.12, 1955.0], [0.26, 73.77, 1956.0], [4.14, 71.35, 1957.0], [2.1, 74.65, 1958.0], [1.88, 73.2, 1959.0], [1.25, 75.08, 1960.0], [3.88, 71.25, 1961.0], [1.64, 73.45, 1962.0], [3.16, 74.34, 1963.0], [2.17, 74.02, 1964.0], [4.08, 73.01, 1965.0], [0.88, 75.79, 1966.0], [1.99, 73.76, 1967.0], [1.93, 70.92, 1968.0], [2.54, 76.45, 1969.0], [1.82, 74.02, 1970.0], [1.72, 74.06, 1971.0], [1.04, 75.09, 1972.0], [1.47, 73.69, 1973.0], [2.39, 73.39, 1974.0], [1.64, 73.62, 1975.0], [1.18, 73.94, 1976.0], [2.0, 76.25, 1977.0], [1.28, 72.88, 1978.0], [0.67, 75.11, 1979.0], [2.35, 73.95, 1980.0], [1.45, 75.21, 1981.0], [4.1, 74.94, 1982.0], [3.76, 76.74, 1983.0], [2.73, 74.3, 1984.0], [3.12, 72.37, 1985.0], [3.43, 71.59, 1986.0], [2.47, 71.39, 1987.0], [2.31, 73.81, 1988.0], [1.61, 74.4, 1989.0], [2.59, 74.66, 1990.0], [3.27, 73.48, 1991.0], [2.2, 72.69, 1992.0], [1.87, 71.92, 1993.0], [1.99, 76.31, 1994.0], [1.83, 74.64, 1995.0], [2.45, 73.36, 1996.0], [5.79, 72.27, 1997.0], [3.26, 75.28, 1998.0], [3.74, 71.52, 1999.0], [1.4, 75.25, 2000.0], [2.81, 74.7, 2001.0], [3.82, 74.22, 2002.0], [1.47, 75.88, 2003.0], [2.3, 72.68, 2004.0], [3.97, 73.7, 2005.0], [3.78, 72.03, 2006.0], [3.79, 75.85, 2007.0], [1.44, 74.53, 2008.0], [0.85, 74.31, 2009.0], [2.23, 74.66, 2010.0], [3.85, 75.09, 2011.0], [1.6, 75.44, 2012.0], [5.64, 73.57, 2013.0], [6.02, 72.72, 2014.0], [2.74, 72.53, 2015.0], [1.66, 73.78, 2016.0], [1.89, 75.19, 2017.0], [1.28, 77.51, 2018.0], [0.52, 76.08, 2019.0], [1.25, 76.21, 2020.0]], \"hovertemplate\": \"accumulated precipitation (inches)=%{customdata[0]}<br>avg temp (F)=%{marker.color}<br>year=%{customdata[2]}<extra></extra>\", \"legendgroup\": \"\", \"marker\": {\"color\": [72.29, 75.12, 72.34, 72.05, 73.23, 73.75, 71.69, 72.51, 72.79, 72.99, 75.25, 72.83, 69.76, 72.5, 72.68, 72.63, 71.61, 73.8, 72.37, 75.42, 71.91, 72.36, 75.07, 71.99, 72.51, 72.21, 73.4, 71.58, 73.48, 73.1, 73.19, 75.75, 73.58, 76.22, 75.66, 75.15, 74.64, 75.31, 74.4, 75.06, 75.52, 72.16, 74.54, 74.77, 74.42, 73.67, 74.49, 74.17, 73.67, 73.41, 71.54, 73.23, 73.51, 73.7, 73.81, 75.12, 73.77, 71.35, 74.65, 73.2, 75.08, 71.25, 73.45, 74.34, 74.02, 73.01, 75.79, 73.76, 70.92, 76.45, 74.02, 74.06, 75.09, 73.69, 73.39, 73.62, 73.94, 76.25, 72.88, 75.11, 73.95, 75.21, 74.94, 76.74, 74.3, 72.37, 71.59, 71.39, 73.81, 74.4, 74.66, 73.48, 72.69, 71.92, 76.31, 74.64, 73.36, 72.27, 75.28, 71.52, 75.25, 74.7, 74.22, 75.88, 72.68, 73.7, 72.03, 75.85, 74.53, 74.31, 74.66, 75.09, 75.44, 73.57, 72.72, 72.53, 73.78, 75.19, 77.51, 76.08, 76.21], \"coloraxis\": \"coloraxis\", \"size\": [1.46, 2.49, 2.16, 1.38, 2.19, 2.18, 2.33, 2.69, 2.38, 2.49, 2.48, 2.49, 2.16, 2.23, 2.87, 1.62, 3.42, 1.66, 3.03, 2.22, 1.79, 5.07, 2.78, 3.19, 2.66, 3.67, 2.71, 5.32, 2.12, 5.87, 2.55, 3.01, 3.05, 2.97, 2.47, 2.07, 3.45, 2.87, 3.24, 3.39, 3.26, 4.76, 2.4, 2.38, 0.81, 2.13, 2.15, 1.62, 3.1, 2.95, 2.26, 1.67, 1.9, 3.0, 3.49, 1.71, 0.26, 4.14, 2.1, 1.88, 1.25, 3.88, 1.64, 3.16, 2.17, 4.08, 0.88, 1.99, 1.93, 2.54, 1.82, 1.72, 1.04, 1.47, 2.39, 1.64, 1.18, 2.0, 1.28, 0.67, 2.35, 1.45, 4.1, 3.76, 2.73, 3.12, 3.43, 2.47, 2.31, 1.61, 2.59, 3.27, 2.2, 1.87, 1.99, 1.83, 2.45, 5.79, 3.26, 3.74, 1.4, 2.81, 3.82, 1.47, 2.3, 3.97, 3.78, 3.79, 1.44, 0.85, 2.23, 3.85, 1.6, 5.64, 6.02, 2.74, 1.66, 1.89, 1.28, 0.52, 1.25], \"sizemode\": \"area\", \"sizeref\": 0.01505, \"symbol\": \"circle\"}, \"mode\": \"markers+text\", \"name\": \"\", \"orientation\": \"v\", \"showlegend\": false, \"text\": [1900.0, 1901.0, 1902.0, 1903.0, 1904.0, 1905.0, 1906.0, 1907.0, 1908.0, 1909.0, 1910.0, 1911.0, 1912.0, 1913.0, 1914.0, 1915.0, 1916.0, 1917.0, 1918.0, 1919.0, 1920.0, 1921.0, 1922.0, 1923.0, 1924.0, 1925.0, 1926.0, 1927.0, 1928.0, 1929.0, 1930.0, 1931.0, 1932.0, 1933.0, 1934.0, 1935.0, 1936.0, 1937.0, 1938.0, 1939.0, 1940.0, 1941.0, 1942.0, 1943.0, 1944.0, 1945.0, 1946.0, 1947.0, 1948.0, 1949.0, 1950.0, 1951.0, 1952.0, 1953.0, 1954.0, 1955.0, 1956.0, 1957.0, 1958.0, 1959.0, 1960.0, 1961.0, 1962.0, 1963.0, 1964.0, 1965.0, 1966.0, 1967.0, 1968.0, 1969.0, 1970.0, 1971.0, 1972.0, 1973.0, 1974.0, 1975.0, 1976.0, 1977.0, 1978.0, 1979.0, 1980.0, 1981.0, 1982.0, 1983.0, 1984.0, 1985.0, 1986.0, 1987.0, 1988.0, 1989.0, 1990.0, 1991.0, 1992.0, 1993.0, 1994.0, 1995.0, 1996.0, 1997.0, 1998.0, 1999.0, 2000.0, 2001.0, 2002.0, 2003.0, 2004.0, 2005.0, 2006.0, 2007.0, 2008.0, 2009.0, 2010.0, 2011.0, 2012.0, 2013.0, 2014.0, 2015.0, 2016.0, 2017.0, 2018.0, 2019.0, 2020.0], \"textfont\": {\"size\": 9}, \"textposition\": \"top center\", \"type\": \"scatter\", \"x\": [1.46, 2.49, 2.16, 1.38, 2.19, 2.18, 2.33, 2.69, 2.38, 2.49, 2.48, 2.49, 2.16, 2.23, 2.87, 1.62, 3.42, 1.66, 3.03, 2.22, 1.79, 5.07, 2.78, 3.19, 2.66, 3.67, 2.71, 5.32, 2.12, 5.87, 2.55, 3.01, 3.05, 2.97, 2.47, 2.07, 3.45, 2.87, 3.24, 3.39, 3.26, 4.76, 2.4, 2.38, 0.81, 2.13, 2.15, 1.62, 3.1, 2.95, 2.26, 1.67, 1.9, 3.0, 3.49, 1.71, 0.26, 4.14, 2.1, 1.88, 1.25, 3.88, 1.64, 3.16, 2.17, 4.08, 0.88, 1.99, 1.93, 2.54, 1.82, 1.72, 1.04, 1.47, 2.39, 1.64, 1.18, 2.0, 1.28, 0.67, 2.35, 1.45, 4.1, 3.76, 2.73, 3.12, 3.43, 2.47, 2.31, 1.61, 2.59, 3.27, 2.2, 1.87, 1.99, 1.83, 2.45, 5.79, 3.26, 3.74, 1.4, 2.81, 3.82, 1.47, 2.3, 3.97, 3.78, 3.79, 1.44, 0.85, 2.23, 3.85, 1.6, 5.64, 6.02, 2.74, 1.66, 1.89, 1.28, 0.52, 1.25], \"xaxis\": \"x\", \"y\": [72.29, 75.12, 72.34, 72.05, 73.23, 73.75, 71.69, 72.51, 72.79, 72.99, 75.25, 72.83, 69.76, 72.5, 72.68, 72.63, 71.61, 73.8, 72.37, 75.42, 71.91, 72.36, 75.07, 71.99, 72.51, 72.21, 73.4, 71.58, 73.48, 73.1, 73.19, 75.75, 73.58, 76.22, 75.66, 75.15, 74.64, 75.31, 74.4, 75.06, 75.52, 72.16, 74.54, 74.77, 74.42, 73.67, 74.49, 74.17, 73.67, 73.41, 71.54, 73.23, 73.51, 73.7, 73.81, 75.12, 73.77, 71.35, 74.65, 73.2, 75.08, 71.25, 73.45, 74.34, 74.02, 73.01, 75.79, 73.76, 70.92, 76.45, 74.02, 74.06, 75.09, 73.69, 73.39, 73.62, 73.94, 76.25, 72.88, 75.11, 73.95, 75.21, 74.94, 76.74, 74.3, 72.37, 71.59, 71.39, 73.81, 74.4, 74.66, 73.48, 72.69, 71.92, 76.31, 74.64, 73.36, 72.27, 75.28, 71.52, 75.25, 74.7, 74.22, 75.88, 72.68, 73.7, 72.03, 75.85, 74.53, 74.31, 74.66, 75.09, 75.44, 73.57, 72.72, 72.53, 73.78, 75.19, 77.51, 76.08, 76.21], \"yaxis\": \"y\"}],                        {\"annotations\": [{\"font\": {\"size\": 10.5}, \"showarrow\": false, \"text\": \"Data source: ACIS\", \"x\": 1.125, \"xref\": \"paper\", \"y\": -0.1, \"yref\": \"paper\"}, {\"font\": {\"size\": 10.5}, \"showarrow\": false, \"text\": \"size of points proportional to precip,<br>color shows temp<br>normals are 1981-2010\", \"x\": -0.075, \"xref\": \"paper\", \"y\": -0.1, \"yref\": \"paper\"}, {\"font\": {\"color\": \"brown\", \"size\": 14}, \"showarrow\": false, \"text\": \"warm & dry\", \"x\": 0, \"xref\": \"paper\", \"y\": 1, \"yref\": \"paper\"}, {\"font\": {\"color\": \"blue\", \"size\": 14}, \"showarrow\": false, \"text\": \"cool & wet\", \"x\": 1, \"xref\": \"paper\", \"y\": 0, \"yref\": \"paper\"}, {\"font\": {\"color\": \"brown\", \"size\": 14}, \"showarrow\": false, \"text\": \"warm & wet\", \"x\": 1, \"xref\": \"paper\", \"y\": 1, \"yref\": \"paper\"}, {\"font\": {\"color\": \"blue\", \"size\": 14}, \"showarrow\": false, \"text\": \"cool & dry\", \"x\": 0, \"xref\": \"paper\", \"y\": 0, \"yref\": \"paper\"}, {\"font\": {\"color\": \"gray\", \"size\": 11}, \"showarrow\": false, \"text\": \"normal precip: 2.73\\\"\", \"x\": 3.63, \"y\": 0, \"yref\": \"paper\"}, {\"font\": {\"color\": \"gray\", \"size\": 11}, \"showarrow\": false, \"text\": \"normal TAVG: 73.29F\", \"x\": 0, \"xref\": \"paper\", \"y\": 73.44000000000001}], \"coloraxis\": {\"colorbar\": {\"title\": {\"text\": \"avg temp (F)\"}}, \"colorscale\": [[0.0, \"rgb(253, 237, 176)\"], [0.09090909090909091, \"rgb(250, 205, 145)\"], [0.18181818181818182, \"rgb(246, 173, 119)\"], [0.2727272727272727, \"rgb(240, 142, 98)\"], [0.36363636363636365, \"rgb(231, 109, 84)\"], [0.45454545454545453, \"rgb(216, 80, 83)\"], [0.5454545454545454, \"rgb(195, 56, 90)\"], [0.6363636363636364, \"rgb(168, 40, 96)\"], [0.7272727272727273, \"rgb(138, 29, 99)\"], [0.8181818181818182, \"rgb(107, 24, 93)\"], [0.9090909090909091, \"rgb(76, 21, 80)\"], [1.0, \"rgb(47, 15, 61)\"]]}, \"height\": 750, \"legend\": {\"itemsizing\": \"constant\", \"tracegroupgap\": 0}, \"margin\": {\"t\": 60}, \"shapes\": [{\"line\": {\"color\": \"gray\", \"dash\": \"dash\"}, \"opacity\": 0.6, \"type\": \"line\", \"x0\": 2.73, \"x1\": 2.73, \"xref\": \"x\", \"y0\": 0, \"y1\": 1, \"yref\": \"y domain\"}, {\"line\": {\"color\": \"gray\", \"dash\": \"dash\"}, \"opacity\": 0.6, \"type\": \"line\", \"x0\": 0, \"x1\": 1, \"xref\": \"x domain\", \"y0\": 73.29, \"y1\": 73.29, \"yref\": \"y\"}], \"showlegend\": true, \"template\": {\"data\": {\"bar\": [{\"error_x\": {\"color\": \"#2a3f5f\"}, \"error_y\": {\"color\": \"#2a3f5f\"}, \"marker\": {\"line\": {\"color\": \"#E5ECF6\", \"width\": 0.5}}, \"type\": \"bar\"}], \"barpolar\": [{\"marker\": {\"line\": {\"color\": \"#E5ECF6\", \"width\": 0.5}}, \"type\": \"barpolar\"}], \"carpet\": [{\"aaxis\": {\"endlinecolor\": \"#2a3f5f\", \"gridcolor\": \"white\", \"linecolor\": \"white\", \"minorgridcolor\": \"white\", \"startlinecolor\": \"#2a3f5f\"}, \"baxis\": {\"endlinecolor\": \"#2a3f5f\", \"gridcolor\": \"white\", \"linecolor\": \"white\", \"minorgridcolor\": \"white\", \"startlinecolor\": \"#2a3f5f\"}, \"type\": \"carpet\"}], \"choropleth\": [{\"colorbar\": {\"outlinewidth\": 0, \"ticks\": \"\"}, \"type\": \"choropleth\"}], \"contour\": [{\"colorbar\": {\"outlinewidth\": 0, \"ticks\": \"\"}, \"colorscale\": [[0.0, \"#0d0887\"], [0.1111111111111111, \"#46039f\"], [0.2222222222222222, \"#7201a8\"], [0.3333333333333333, \"#9c179e\"], [0.4444444444444444, \"#bd3786\"], [0.5555555555555556, \"#d8576b\"], [0.6666666666666666, \"#ed7953\"], [0.7777777777777778, \"#fb9f3a\"], [0.8888888888888888, \"#fdca26\"], [1.0, \"#f0f921\"]], \"type\": \"contour\"}], \"contourcarpet\": [{\"colorbar\": {\"outlinewidth\": 0, \"ticks\": \"\"}, \"type\": \"contourcarpet\"}], \"heatmap\": [{\"colorbar\": {\"outlinewidth\": 0, \"ticks\": \"\"}, \"colorscale\": [[0.0, \"#0d0887\"], [0.1111111111111111, \"#46039f\"], [0.2222222222222222, \"#7201a8\"], [0.3333333333333333, \"#9c179e\"], [0.4444444444444444, \"#bd3786\"], [0.5555555555555556, \"#d8576b\"], [0.6666666666666666, \"#ed7953\"], [0.7777777777777778, \"#fb9f3a\"], [0.8888888888888888, \"#fdca26\"], [1.0, \"#f0f921\"]], \"type\": \"heatmap\"}], \"heatmapgl\": [{\"colorbar\": {\"outlinewidth\": 0, \"ticks\": \"\"}, \"colorscale\": [[0.0, \"#0d0887\"], [0.1111111111111111, \"#46039f\"], [0.2222222222222222, \"#7201a8\"], [0.3333333333333333, \"#9c179e\"], [0.4444444444444444, \"#bd3786\"], [0.5555555555555556, \"#d8576b\"], [0.6666666666666666, \"#ed7953\"], [0.7777777777777778, \"#fb9f3a\"], [0.8888888888888888, \"#fdca26\"], [1.0, \"#f0f921\"]], \"type\": \"heatmapgl\"}], \"histogram\": [{\"marker\": {\"colorbar\": {\"outlinewidth\": 0, \"ticks\": \"\"}}, \"type\": \"histogram\"}], \"histogram2d\": [{\"colorbar\": {\"outlinewidth\": 0, \"ticks\": \"\"}, \"colorscale\": [[0.0, \"#0d0887\"], [0.1111111111111111, \"#46039f\"], [0.2222222222222222, \"#7201a8\"], [0.3333333333333333, \"#9c179e\"], [0.4444444444444444, \"#bd3786\"], [0.5555555555555556, \"#d8576b\"], [0.6666666666666666, \"#ed7953\"], [0.7777777777777778, \"#fb9f3a\"], [0.8888888888888888, \"#fdca26\"], [1.0, \"#f0f921\"]], \"type\": \"histogram2d\"}], \"histogram2dcontour\": [{\"colorbar\": {\"outlinewidth\": 0, \"ticks\": \"\"}, \"colorscale\": [[0.0, \"#0d0887\"], [0.1111111111111111, \"#46039f\"], [0.2222222222222222, \"#7201a8\"], [0.3333333333333333, \"#9c179e\"], [0.4444444444444444, \"#bd3786\"], [0.5555555555555556, \"#d8576b\"], [0.6666666666666666, \"#ed7953\"], [0.7777777777777778, \"#fb9f3a\"], [0.8888888888888888, \"#fdca26\"], [1.0, \"#f0f921\"]], \"type\": \"histogram2dcontour\"}], \"mesh3d\": [{\"colorbar\": {\"outlinewidth\": 0, \"ticks\": \"\"}, \"type\": \"mesh3d\"}], \"parcoords\": [{\"line\": {\"colorbar\": {\"outlinewidth\": 0, \"ticks\": \"\"}}, \"type\": \"parcoords\"}], \"pie\": [{\"automargin\": true, \"type\": \"pie\"}], \"scatter\": [{\"marker\": {\"colorbar\": {\"outlinewidth\": 0, \"ticks\": \"\"}}, \"type\": \"scatter\"}], \"scatter3d\": [{\"line\": {\"colorbar\": {\"outlinewidth\": 0, \"ticks\": \"\"}}, \"marker\": {\"colorbar\": {\"outlinewidth\": 0, \"ticks\": \"\"}}, \"type\": \"scatter3d\"}], \"scattercarpet\": [{\"marker\": {\"colorbar\": {\"outlinewidth\": 0, \"ticks\": \"\"}}, \"type\": \"scattercarpet\"}], \"scattergeo\": [{\"marker\": {\"colorbar\": {\"outlinewidth\": 0, \"ticks\": \"\"}}, \"type\": \"scattergeo\"}], \"scattergl\": [{\"marker\": {\"colorbar\": {\"outlinewidth\": 0, \"ticks\": \"\"}}, \"type\": \"scattergl\"}], \"scattermapbox\": [{\"marker\": {\"colorbar\": {\"outlinewidth\": 0, \"ticks\": \"\"}}, \"type\": \"scattermapbox\"}], \"scatterpolar\": [{\"marker\": {\"colorbar\": {\"outlinewidth\": 0, \"ticks\": \"\"}}, \"type\": \"scatterpolar\"}], \"scatterpolargl\": [{\"marker\": {\"colorbar\": {\"outlinewidth\": 0, \"ticks\": \"\"}}, \"type\": \"scatterpolargl\"}], \"scatterternary\": [{\"marker\": {\"colorbar\": {\"outlinewidth\": 0, \"ticks\": \"\"}}, \"type\": \"scatterternary\"}], \"surface\": [{\"colorbar\": {\"outlinewidth\": 0, \"ticks\": \"\"}, \"colorscale\": [[0.0, \"#0d0887\"], [0.1111111111111111, \"#46039f\"], [0.2222222222222222, \"#7201a8\"], [0.3333333333333333, \"#9c179e\"], [0.4444444444444444, \"#bd3786\"], [0.5555555555555556, \"#d8576b\"], [0.6666666666666666, \"#ed7953\"], [0.7777777777777778, \"#fb9f3a\"], [0.8888888888888888, \"#fdca26\"], [1.0, \"#f0f921\"]], \"type\": \"surface\"}], \"table\": [{\"cells\": {\"fill\": {\"color\": \"#EBF0F8\"}, \"line\": {\"color\": \"white\"}}, \"header\": {\"fill\": {\"color\": \"#C8D4E3\"}, \"line\": {\"color\": \"white\"}}, \"type\": \"table\"}]}, \"layout\": {\"annotationdefaults\": {\"arrowcolor\": \"#2a3f5f\", \"arrowhead\": 0, \"arrowwidth\": 1}, \"coloraxis\": {\"colorbar\": {\"outlinewidth\": 0, \"ticks\": \"\"}}, \"colorscale\": {\"diverging\": [[0, \"#8e0152\"], [0.1, \"#c51b7d\"], [0.2, \"#de77ae\"], [0.3, \"#f1b6da\"], [0.4, \"#fde0ef\"], [0.5, \"#f7f7f7\"], [0.6, \"#e6f5d0\"], [0.7, \"#b8e186\"], [0.8, \"#7fbc41\"], [0.9, \"#4d9221\"], [1, \"#276419\"]], \"sequential\": [[0.0, \"#0d0887\"], [0.1111111111111111, \"#46039f\"], [0.2222222222222222, \"#7201a8\"], [0.3333333333333333, \"#9c179e\"], [0.4444444444444444, \"#bd3786\"], [0.5555555555555556, \"#d8576b\"], [0.6666666666666666, \"#ed7953\"], [0.7777777777777778, \"#fb9f3a\"], [0.8888888888888888, \"#fdca26\"], [1.0, \"#f0f921\"]], \"sequentialminus\": [[0.0, \"#0d0887\"], [0.1111111111111111, \"#46039f\"], [0.2222222222222222, \"#7201a8\"], [0.3333333333333333, \"#9c179e\"], [0.4444444444444444, \"#bd3786\"], [0.5555555555555556, \"#d8576b\"], [0.6666666666666666, \"#ed7953\"], [0.7777777777777778, \"#fb9f3a\"], [0.8888888888888888, \"#fdca26\"], [1.0, \"#f0f921\"]]}, \"colorway\": [\"#636efa\", \"#EF553B\", \"#00cc96\", \"#ab63fa\", \"#FFA15A\", \"#19d3f3\", \"#FF6692\", \"#B6E880\", \"#FF97FF\", \"#FECB52\"], \"font\": {\"color\": \"#2a3f5f\"}, \"geo\": {\"bgcolor\": \"white\", \"lakecolor\": \"white\", \"landcolor\": \"#E5ECF6\", \"showlakes\": true, \"showland\": true, \"subunitcolor\": \"white\"}, \"hoverlabel\": {\"align\": \"left\"}, \"hovermode\": \"closest\", \"mapbox\": {\"style\": \"light\"}, \"paper_bgcolor\": \"white\", \"plot_bgcolor\": \"#E5ECF6\", \"polar\": {\"angularaxis\": {\"gridcolor\": \"white\", \"linecolor\": \"white\", \"ticks\": \"\"}, \"bgcolor\": \"#E5ECF6\", \"radialaxis\": {\"gridcolor\": \"white\", \"linecolor\": \"white\", \"ticks\": \"\"}}, \"scene\": {\"xaxis\": {\"backgroundcolor\": \"#E5ECF6\", \"gridcolor\": \"white\", \"gridwidth\": 2, \"linecolor\": \"white\", \"showbackground\": true, \"ticks\": \"\", \"zerolinecolor\": \"white\"}, \"yaxis\": {\"backgroundcolor\": \"#E5ECF6\", \"gridcolor\": \"white\", \"gridwidth\": 2, \"linecolor\": \"white\", \"showbackground\": true, \"ticks\": \"\", \"zerolinecolor\": \"white\"}, \"zaxis\": {\"backgroundcolor\": \"#E5ECF6\", \"gridcolor\": \"white\", \"gridwidth\": 2, \"linecolor\": \"white\", \"showbackground\": true, \"ticks\": \"\", \"zerolinecolor\": \"white\"}}, \"shapedefaults\": {\"line\": {\"color\": \"#2a3f5f\"}}, \"ternary\": {\"aaxis\": {\"gridcolor\": \"white\", \"linecolor\": \"white\", \"ticks\": \"\"}, \"baxis\": {\"gridcolor\": \"white\", \"linecolor\": \"white\", \"ticks\": \"\"}, \"bgcolor\": \"#E5ECF6\", \"caxis\": {\"gridcolor\": \"white\", \"linecolor\": \"white\", \"ticks\": \"\"}}, \"title\": {\"x\": 0.05}, \"xaxis\": {\"automargin\": true, \"gridcolor\": \"white\", \"linecolor\": \"white\", \"ticks\": \"\", \"title\": {\"standoff\": 15}, \"zerolinecolor\": \"white\", \"zerolinewidth\": 2}, \"yaxis\": {\"automargin\": true, \"gridcolor\": \"white\", \"linecolor\": \"white\", \"ticks\": \"\", \"title\": {\"standoff\": 15}, \"zerolinecolor\": \"white\", \"zerolinewidth\": 2}}}, \"title\": {\"text\": \"GRAND JUNCTION WALKER FIELD temperature and precipitation, July 1 - September 30\", \"x\": 0.5, \"xanchor\": \"center\", \"y\": 0.95, \"yanchor\": \"top\"}, \"width\": 850, \"xaxis\": {\"anchor\": \"y\", \"domain\": [0.0, 1.0], \"title\": {\"text\": \"accumulated precipitation (inches)\"}}, \"yaxis\": {\"anchor\": \"x\", \"domain\": [0.0, 1.0], \"title\": {\"text\": \"avg temp (F)\"}}},                        {\"toImageButtonOptions\": {\"format\": \"png\", \"filename\": \"tavg_prcp_scatter_KGJT_01Jul_30Sep\", \"width\": 850, \"height\": 750, \"scale\": 1}, \"responsive\": true}                    ).then(function(){\n",
       "                            \n",
       "var gd = document.getElementById('4e6e8431-fb8c-42ef-a0a6-44f28cfd2652');\n",
       "var x = new MutationObserver(function (mutations, observer) {{\n",
       "        var display = window.getComputedStyle(gd).display;\n",
       "        if (!display || display === 'none') {{\n",
       "            console.log([gd, 'removed!']);\n",
       "            Plotly.purge(gd);\n",
       "            observer.disconnect();\n",
       "        }}\n",
       "}});\n",
       "\n",
       "// Listen for the removal of the full notebook cells\n",
       "var notebookContainer = gd.closest('#notebook-container');\n",
       "if (notebookContainer) {{\n",
       "    x.observe(notebookContainer, {childList: true});\n",
       "}}\n",
       "\n",
       "// Listen for the clearing of the current output cell\n",
       "var outputEl = gd.closest('.output');\n",
       "if (outputEl) {{\n",
       "    x.observe(outputEl, {childList: true});\n",
       "}}\n",
       "\n",
       "                        })                };                });            </script>        </div>"
      ]
     },
     "metadata": {},
     "output_type": "display_data"
    }
   ],
   "source": [
    "for stn_id in stn_ids:\n",
    "    \n",
    "    ## get data from ACIS\n",
    "    print(\"end date: \"+end_date.strftime('%Y-%m-%d'))   \n",
    "    print(\"working on station \"+stn_id)\n",
    "\n",
    "    ## this will get the mean over a numdays-long period, one value per year ending on the specified month/day\n",
    "    print(\"avg temp\")\n",
    "\n",
    "    try:\n",
    "        payload = {\n",
    "        \"output\": \"json\",\n",
    "        \"params\": {\"elems\":[{\"name\":\"avgt\",\"interval\":[1,0,0],\"duration\":numdays,\n",
    "                             \"reduce\":\"mean\",\"maxmissing\":maxmissing}],\n",
    "                   \"sid\":stn_id,\"sdate\":start_date.strftime('%Y-%m-%d'),\"edate\":end_date.strftime('%Y-%m-%d')} \n",
    "        }\n",
    "\n",
    "\n",
    "        r = requests.post(url, json=payload)\n",
    "        data = r.json()\n",
    "\n",
    "        stn_name = data['meta']['name']\n",
    "        print(\"this station is: \"+stn_name)\n",
    "\n",
    "        data_pd = pd.DataFrame(data['data'], columns=['date','tavg'])\n",
    "        data_pd['tavg'] = pd.to_numeric(data_pd['tavg'], errors='coerce')\n",
    "\n",
    "        ## repeat for precip\n",
    "        ## this will get the mean over a numdays-long period, one value per year ending on the specified month/day\n",
    "        print(\"precip\")\n",
    "        payload = {\n",
    "        \"output\": \"json\",\n",
    "        \"params\": {\"elems\":[{\"name\":\"pcpn\",\"interval\":[1,0,0],\"duration\":numdays,\n",
    "                             \"reduce\":\"sum\",\"maxmissing\":maxmissing}],\n",
    "                   \"sid\":stn_id,\"sdate\":start_date.strftime('%Y-%m-%d'),\"edate\":end_date.strftime('%Y-%m-%d')} \n",
    "        }\n",
    "\n",
    "\n",
    "        r = requests.post(url, json=payload)\n",
    "        data = r.json()\n",
    "\n",
    "        data_pd2 = pd.DataFrame(data['data'], columns=['date','prcp'])\n",
    "        data_pd2['prcp'] = pd.to_numeric(data_pd2['prcp'], errors='coerce')\n",
    "\n",
    "        ### also get the normals for this time period\n",
    "        print(\"temp normal\")\n",
    "        payload = {\n",
    "        \"output\": \"json\",\n",
    "        \"params\": {\"elems\":[{\"name\":\"avgt\",\"interval\":[1,0,0],\"duration\":numdays,\n",
    "                             \"reduce\":\"mean\",\"maxmissing\":maxmissing,\"normal\":\"1\"}],\n",
    "                   \"sid\":stn_id,\"date\":end_date.strftime('%Y-%m-%d')} \n",
    "        }\n",
    "\n",
    "        r = requests.post(url, json=payload)\n",
    "        data = r.json()\n",
    "\n",
    "        data_pd3 = pd.DataFrame(data['data'], columns=['date','tavg_normal'])\n",
    "        data_pd3['tavg_normal'] = pd.to_numeric(data_pd3['tavg_normal'], errors='coerce')\n",
    "\n",
    "        print(\"precip normal\")\n",
    "        payload = {\n",
    "        \"output\": \"json\",\n",
    "        \"params\": {\"elems\":[{\"name\":\"pcpn\",\"interval\":[1,0,0],\"duration\":numdays,\n",
    "                             \"reduce\":\"sum\",\"maxmissing\":maxmissing,\"normal\":\"1\"}],\n",
    "                   \"sid\":stn_id,\"date\":end_date.strftime('%Y-%m-%d')} \n",
    "        }\n",
    "\n",
    "        r = requests.post(url, json=payload)\n",
    "        data = r.json()\n",
    "\n",
    "        data_pd4 = pd.DataFrame(data['data'], columns=['date','prcp_normal'])\n",
    "        data_pd4['prcp_normal'] = pd.to_numeric(data_pd4['prcp_normal'], errors='coerce')\n",
    "\n",
    "        ## and merge the data frames and set the index\n",
    "        data = data_pd.merge(data_pd2, on='date').set_index(pd.to_datetime(data_pd['date']))\n",
    "\n",
    "        ## make a year column for plotting\n",
    "        data['year'] = data.index.year\n",
    "\n",
    "        ## and make the plot with plotly\n",
    "        fig = px.scatter(data.dropna(), x=\"prcp\", y=\"tavg\",\n",
    "                    hover_data=['prcp','tavg','year'],\n",
    "                    labels = {'tavg':'avg temp (F)','prcp':'accumulated precipitation (inches)'},\n",
    "                    size='prcp', color='tavg',\n",
    "                     color_continuous_scale=px.colors.sequential.matter,\n",
    "                    text='year',\n",
    "                    width=850,height=750)\n",
    "\n",
    "        fig.update_traces(textposition='top center',textfont_size=9)\n",
    "\n",
    "        # add lines for the normals\n",
    "        fig.add_vline(data_pd4.prcp_normal[0], line_dash='dash',line_color='gray',opacity=0.6)\n",
    "        fig.add_hline(data_pd3.tavg_normal[0], line_dash='dash',line_color='gray',opacity=0.6)\n",
    "\n",
    "        fig.update_layout(\n",
    "            title={\n",
    "                'text': stn_name+' temperature and precipitation, '+first_day_text+' - '+last_day_text,\n",
    "                'y':0.95,\n",
    "                'x':0.5,\n",
    "                'xanchor': 'center',\n",
    "                'yanchor': 'top'},\n",
    "                           showlegend=True,\n",
    "                              annotations=[\n",
    "                                  dict(x=1.125,y=-0.1,showarrow=False,\n",
    "                                       text=\"Data source: ACIS\",\n",
    "                                       xref=\"paper\",yref=\"paper\",font={'size':10.5}),\n",
    "                                  dict(x=-0.075,y=-0.1,showarrow=False,\n",
    "                                       text=\"size of points proportional to precip,<br>color shows temp<br>normals are 1981-2010\",\n",
    "                                       xref=\"paper\",yref=\"paper\",font={'size':10.5}),\n",
    "                                  dict(x=0,y=1,showarrow=False,\n",
    "                                       text=\"warm & dry\",\n",
    "                                       xref=\"paper\",yref=\"paper\",font={'size':14, 'color':'brown'}),\n",
    "                                  dict(x=1,y=0,showarrow=False,\n",
    "                                       text=\"cool & wet\",\n",
    "                                       xref=\"paper\",yref=\"paper\",font={'size':14, 'color':'blue'}),\n",
    "                                  dict(x=1,y=1,showarrow=False,\n",
    "                                       text=\"warm & wet\",\n",
    "                                       xref=\"paper\",yref=\"paper\",font={'size':14, 'color':'brown'}),\n",
    "                                  dict(x=0,y=0,showarrow=False,\n",
    "                                       text=\"cool & dry\",\n",
    "                                       xref=\"paper\",yref=\"paper\",font={'size':14, 'color':'blue'}),\n",
    "                                  dict(x=data_pd4.prcp_normal[0]+0.9,y=0,showarrow=False,\n",
    "                                       text=\"normal precip: \"+str(data_pd4.prcp_normal[0])+\"\\\"\",\n",
    "                                       yref=\"paper\",font={'size':11, 'color':'gray'}), \n",
    "                                  dict(x=0,y=data_pd3.tavg_normal[0]+0.15,showarrow=False,\n",
    "                                       text=\"normal TAVG: \"+str(data_pd3.tavg_normal[0])+\"F\",\n",
    "                                       xref=\"paper\",font={'size':11, 'color':'gray'}),   \n",
    "                                          ])\n",
    "        \n",
    "        ## this code controls how the png gets written if you click the 'save' button\n",
    "        ## in the interactive graph\n",
    "        config = {\n",
    "        'toImageButtonOptions': {\n",
    "        'format': 'png', # one of png, svg, jpeg, webp\n",
    "        'filename': \"tavg_prcp_scatter_\"+stn_id+\"_\"+first_day_abbrev+\"_\"+last_day_abbrev,\n",
    "        'width': 850,\n",
    "        'height': 750,\n",
    "        'scale': 1 # Multiply title/legend/axis/canvas sizes by this factor\n",
    "         }\n",
    "         }\n",
    "\n",
    "        fig.write_image(\"tavg_prcp_scatter_\"+stn_id+\"_\"+first_day_abbrev+\"_\"+last_day_abbrev+\".pdf\", \n",
    "                        width=850, height=750, engine='kaleido')\n",
    "\n",
    "        ## show interactive graph:\n",
    "        fig.show(config=config)\n",
    "        \n",
    "    except:\n",
    "        print(\"something went wrong for this station, going on to the next one\")\n",
    "\n"
   ]
  },
  {
   "cell_type": "code",
   "execution_count": null,
   "metadata": {},
   "outputs": [],
   "source": []
  },
  {
   "cell_type": "code",
   "execution_count": null,
   "metadata": {},
   "outputs": [],
   "source": []
  }
 ],
 "metadata": {
  "kernelspec": {
   "display_name": "Python 3",
   "language": "python",
   "name": "python3"
  },
  "language_info": {
   "codemirror_mode": {
    "name": "ipython",
    "version": 3
   },
   "file_extension": ".py",
   "mimetype": "text/x-python",
   "name": "python",
   "nbconvert_exporter": "python",
   "pygments_lexer": "ipython3",
   "version": "3.8.6"
  }
 },
 "nbformat": 4,
 "nbformat_minor": 4
}
